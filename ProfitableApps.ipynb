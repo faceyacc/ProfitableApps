{
 "cells": [
  {
   "cell_type": "markdown",
   "id": "348051d8",
   "metadata": {},
   "source": [
    "# Profitable App Profiles in Google Play Markets & App Store"
   ]
  },
  {
   "cell_type": "markdown",
   "id": "783c0468",
   "metadata": {},
   "source": [
    "Description: [In the previous step, we outlined that our aim is to help our developers understand what type of apps are likely to attract more users on Google Play and the App Store.]\n",
    "\n",
    "[As we mentioned in the introduction, our goal is to determine the kinds of apps that are likely to attract more users because the number of people using our apps affect our revenue.\n"
   ]
  },
  {
   "cell_type": "code",
   "execution_count": 1,
   "id": "b8a00aaa",
   "metadata": {},
   "outputs": [],
   "source": [
    "from csv import reader"
   ]
  },
  {
   "cell_type": "code",
   "execution_count": 2,
   "id": "d561b9c0",
   "metadata": {},
   "outputs": [],
   "source": [
    "def open_csv(dataFile, header=True):\n",
    "    openFile = open(dataFile)\n",
    "    readFile = reader(openFile)\n",
    "    data = list(readFile)\n",
    "    if header:\n",
    "        return data\n",
    "    else:\n",
    "        return data[1:]"
   ]
  },
  {
   "cell_type": "code",
   "execution_count": 3,
   "id": "b95ec7d7",
   "metadata": {},
   "outputs": [],
   "source": [
    "def explore_data(dataset, start, end, rows_and_columns=False):\n",
    "    dataset_slice = dataset[start:end]\n",
    "    for row in dataset_slice:\n",
    "        print(row)\n",
    "        print('\\n')\n",
    "    if rows_and_columns:\n",
    "        print('Number of rows:', len(dataset))\n",
    "        print('Number of columnds:', len(dataset[0]))"
   ]
  },
  {
   "cell_type": "markdown",
   "id": "5a584cd7",
   "metadata": {},
   "source": [
    "### Explore Data\n",
    "To get a better understanding of the app store and google market data, I print out a few rows of each dataset"
   ]
  },
  {
   "cell_type": "code",
   "execution_count": 4,
   "id": "f5111eec",
   "metadata": {},
   "outputs": [],
   "source": [
    "app_store_data = open_csv('./data/AppleStore.csv', header=True)\n",
    "google_market_data = open_csv('./data/googleplaystore.csv', header=True)"
   ]
  },
  {
   "cell_type": "code",
   "execution_count": 5,
   "id": "dbb80d0b",
   "metadata": {},
   "outputs": [
    {
     "name": "stdout",
     "output_type": "stream",
     "text": [
      "['id', 'track_name', 'size_bytes', 'currency', 'price', 'rating_count_tot', 'rating_count_ver', 'user_rating', 'user_rating_ver', 'ver', 'cont_rating', 'prime_genre', 'sup_devices.num', 'ipadSc_urls.num', 'lang.num', 'vpp_lic']\n",
      "\n",
      "\n",
      "['284882215', 'Facebook', '389879808', 'USD', '0.0', '2974676', '212', '3.5', '3.5', '95.0', '4+', 'Social Networking', '37', '1', '29', '1']\n",
      "\n",
      "\n",
      "['389801252', 'Instagram', '113954816', 'USD', '0.0', '2161558', '1289', '4.5', '4.0', '10.23', '12+', 'Photo & Video', '37', '0', '29', '1']\n",
      "\n",
      "\n",
      "Number of rows: 7198\n",
      "Number of columnds: 16\n"
     ]
    }
   ],
   "source": [
    "explore_data(app_store_data, 0, 3, rows_and_columns=True)"
   ]
  },
  {
   "cell_type": "code",
   "execution_count": 6,
   "id": "0e47bd02",
   "metadata": {},
   "outputs": [
    {
     "name": "stdout",
     "output_type": "stream",
     "text": [
      "['App', 'Category', 'Rating', 'Reviews', 'Size', 'Installs', 'Type', 'Price', 'Content Rating', 'Genres', 'Last Updated', 'Current Ver', 'Android Ver']\n",
      "\n",
      "\n",
      "['Photo Editor & Candy Camera & Grid & ScrapBook', 'ART_AND_DESIGN', '4.1', '159', '19M', '10,000+', 'Free', '0', 'Everyone', 'Art & Design', 'January 7, 2018', '1.0.0', '4.0.3 and up']\n",
      "\n",
      "\n",
      "['Coloring book moana', 'ART_AND_DESIGN', '3.9', '967', '14M', '500,000+', 'Free', '0', 'Everyone', 'Art & Design;Pretend Play', 'January 15, 2018', '2.0.0', '4.0.3 and up']\n",
      "\n",
      "\n",
      "Number of rows: 10842\n",
      "Number of columnds: 13\n"
     ]
    }
   ],
   "source": [
    "explore_data(google_market_data, 0, 3, rows_and_columns=True)"
   ]
  },
  {
   "cell_type": "markdown",
   "id": "22ae29f6",
   "metadata": {},
   "source": [
    "#### The more important data points for both datasets are: app name, user rating, genre, and size"
   ]
  },
  {
   "cell_type": "code",
   "execution_count": 7,
   "id": "2458e969",
   "metadata": {},
   "outputs": [
    {
     "data": {
      "text/plain": [
       "['App',\n",
       " 'Category',\n",
       " 'Rating',\n",
       " 'Reviews',\n",
       " 'Size',\n",
       " 'Installs',\n",
       " 'Type',\n",
       " 'Price',\n",
       " 'Content Rating',\n",
       " 'Genres',\n",
       " 'Last Updated',\n",
       " 'Current Ver',\n",
       " 'Android Ver']"
      ]
     },
     "execution_count": 7,
     "metadata": {},
     "output_type": "execute_result"
    }
   ],
   "source": [
    "google_market_data[0]"
   ]
  },
  {
   "cell_type": "code",
   "execution_count": 8,
   "id": "7afdd453",
   "metadata": {},
   "outputs": [
    {
     "data": {
      "text/plain": [
       "['id',\n",
       " 'track_name',\n",
       " 'size_bytes',\n",
       " 'currency',\n",
       " 'price',\n",
       " 'rating_count_tot',\n",
       " 'rating_count_ver',\n",
       " 'user_rating',\n",
       " 'user_rating_ver',\n",
       " 'ver',\n",
       " 'cont_rating',\n",
       " 'prime_genre',\n",
       " 'sup_devices.num',\n",
       " 'ipadSc_urls.num',\n",
       " 'lang.num',\n",
       " 'vpp_lic']"
      ]
     },
     "execution_count": 8,
     "metadata": {},
     "output_type": "execute_result"
    }
   ],
   "source": [
    "app_store_data[0]"
   ]
  },
  {
   "cell_type": "markdown",
   "id": "7ebc39a0",
   "metadata": {},
   "source": [
    "### Data Cleaning\n",
    "In this step I insure the data being anayzlze is correct. The main takeaways here is to detect inaccurate data, and correct or remove it. And, detect duplicate data, and remove the duplicates\n",
    "\n",
    "In this project I am focusing on apps that are *free* to download and for *English-speaking* audience. The steps I take to ensure the this are the following:\n",
    "\n",
    "    * Remove non-English apps\n",
    "    * Remove apps that aren't free"
   ]
  },
  {
   "cell_type": "code",
   "execution_count": 9,
   "id": "4aa30035",
   "metadata": {},
   "outputs": [],
   "source": [
    "def find_missing_data(data):\n",
    "    for row in data:\n",
    "        if len(row) != len(data[0]):\n",
    "            print(row, google_market_data.index(row))\n",
    "            del google_market_data[google_market_data.index(row)]"
   ]
  },
  {
   "cell_type": "code",
   "execution_count": 10,
   "id": "1d5de734",
   "metadata": {},
   "outputs": [],
   "source": [
    "def check_duplicates(data, header_included=True):\n",
    "  \n",
    "    duplicate_apps = []\n",
    "    unique_apps = []\n",
    "    for app in data:\n",
    "        name = app[0]\n",
    "        if name in unique_apps:\n",
    "            duplicate_apps.append(name)\n",
    "        else:\n",
    "            unique_apps.append(name)\n",
    "\n",
    "    print('Number of duplicate apps:', len(duplicate_apps))\n",
    "    if header_included:\n",
    "        print('Number of unique apps:', len(unique_apps ) - 1)\n",
    "    else:\n",
    "        print('Number of unique apps:', len(unique_apps))\n",
    "    print('\\n')\n",
    "    print('Example of duplicate apps:', duplicate_apps[:5])"
   ]
  },
  {
   "cell_type": "markdown",
   "id": "6c4fd5c7",
   "metadata": {},
   "source": [
    "#### Removing any missing data"
   ]
  },
  {
   "cell_type": "code",
   "execution_count": 11,
   "id": "a9f28a6a",
   "metadata": {},
   "outputs": [
    {
     "name": "stdout",
     "output_type": "stream",
     "text": [
      "['Life Made WI-Fi Touchscreen Photo Frame', '1.9', '19', '3.0M', '1,000+', 'Free', '0', 'Everyone', '', 'February 11, 2018', '1.0.19', '4.0 and up'] 10473\n"
     ]
    }
   ],
   "source": [
    "find_missing_data(google_market_data)"
   ]
  },
  {
   "cell_type": "code",
   "execution_count": 12,
   "id": "182f6fc3",
   "metadata": {},
   "outputs": [],
   "source": [
    "find_missing_data(app_store_data)"
   ]
  },
  {
   "cell_type": "markdown",
   "id": "695d744a",
   "metadata": {},
   "source": [
    "#### Checking for duplicated data"
   ]
  },
  {
   "cell_type": "code",
   "execution_count": 13,
   "id": "8e14023e",
   "metadata": {},
   "outputs": [
    {
     "name": "stdout",
     "output_type": "stream",
     "text": [
      "Number of duplicate apps: 1181\n",
      "Number of unique apps: 9659\n",
      "\n",
      "\n",
      "Example of duplicate apps: ['Quick PDF Scanner + OCR FREE', 'Box', 'Google My Business', 'ZOOM Cloud Meetings', 'join.me - Simple Meetings']\n"
     ]
    }
   ],
   "source": [
    "check_duplicates(google_market_data)"
   ]
  },
  {
   "cell_type": "markdown",
   "id": "d149eb62",
   "metadata": {},
   "source": [
    "#### Setting a criterion for removing duplicated data:  \n",
    "Note that different numbers show in col 4. Column number 4 examples the number of reviews. I will use this information to build a criterion for removing duplicates. The higher the number of reviews, the more recent the data should be; I will keep the data entry with the highest number of reviews"
   ]
  },
  {
   "cell_type": "code",
   "execution_count": 14,
   "id": "fdb3482c",
   "metadata": {},
   "outputs": [
    {
     "name": "stdout",
     "output_type": "stream",
     "text": [
      "['Instagram', 'SOCIAL', '4.5', '66577313', 'Varies with device', '1,000,000,000+', 'Free', '0', 'Teen', 'Social', 'July 31, 2018', 'Varies with device', 'Varies with device']\n",
      "['Instagram', 'SOCIAL', '4.5', '66577446', 'Varies with device', '1,000,000,000+', 'Free', '0', 'Teen', 'Social', 'July 31, 2018', 'Varies with device', 'Varies with device']\n",
      "['Instagram', 'SOCIAL', '4.5', '66577313', 'Varies with device', '1,000,000,000+', 'Free', '0', 'Teen', 'Social', 'July 31, 2018', 'Varies with device', 'Varies with device']\n",
      "['Instagram', 'SOCIAL', '4.5', '66509917', 'Varies with device', '1,000,000,000+', 'Free', '0', 'Teen', 'Social', 'July 31, 2018', 'Varies with device', 'Varies with device']\n"
     ]
    }
   ],
   "source": [
    "for app in google_market_data:\n",
    "    name = app[0]\n",
    "    if name == 'Instagram':\n",
    "        print(app)"
   ]
  },
  {
   "cell_type": "markdown",
   "id": "fb663fbe",
   "metadata": {},
   "source": [
    "###### creating a dictionary based for max number of reviews for each app"
   ]
  },
  {
   "cell_type": "code",
   "execution_count": 15,
   "id": "bb7cd3dd",
   "metadata": {},
   "outputs": [],
   "source": [
    "reviews_max = {}\n",
    "for row in google_market_data[1:]:\n",
    "    name = row[0]\n",
    "    n_reviews = float(row[3])\n",
    "    if name in reviews_max and reviews_max[name] < n_reviews:\n",
    "        reviews_max[name] = n_reviews\n",
    "    elif name not in reviews_max:\n",
    "        reviews_max[name] = n_reviews\n",
    "    "
   ]
  },
  {
   "cell_type": "code",
   "execution_count": 16,
   "id": "c2e75a80",
   "metadata": {},
   "outputs": [
    {
     "name": "stdout",
     "output_type": "stream",
     "text": [
      "There are 9659 unique apps\n"
     ]
    }
   ],
   "source": [
    "print(f'There are {len(reviews_max)} unique apps')"
   ]
  },
  {
   "cell_type": "markdown",
   "id": "0910261b",
   "metadata": {},
   "source": [
    "###### Creating a new dataset of not duplicated apps based on the criterion stated above"
   ]
  },
  {
   "cell_type": "code",
   "execution_count": 17,
   "id": "36b4dcdb",
   "metadata": {},
   "outputs": [],
   "source": [
    "android_clean = []\n",
    "already_added = []\n",
    "for row in google_market_data[1:]:\n",
    "    name = row[0]\n",
    "    n_reviews = float(row[3])\n",
    "\n",
    "    if n_reviews == reviews_max[name] and name not in already_added:\n",
    "        android_clean.append(row)\n",
    "        already_added.append(name)"
   ]
  },
  {
   "cell_type": "code",
   "execution_count": 18,
   "id": "d99b2d10",
   "metadata": {},
   "outputs": [
    {
     "data": {
      "text/plain": [
       "9659"
      ]
     },
     "execution_count": 18,
     "metadata": {},
     "output_type": "execute_result"
    }
   ],
   "source": [
    "len(android_clean)"
   ]
  },
  {
   "cell_type": "markdown",
   "id": "436d58f3",
   "metadata": {},
   "source": [
    "#### Cleaning data from non-English app:  \n",
    "The next step I take is to clean all data from any apps that are not in English. The scope of this project pertains only to apps with a English-speaking population.\n",
    "\n",
    "The criterion for cleaning this data is: remove any apps that do not use letters commonly used in English. Using ASCII, commonly used characters in English range from 0 to 127, according to the ASCII system. Below I remove any apps that do not have commonly used Enlish characters."
   ]
  },
  {
   "cell_type": "code",
   "execution_count": 19,
   "id": "0717cf7d",
   "metadata": {},
   "outputs": [],
   "source": [
    "def en_letters(string):\n",
    "    num_of_non_english = 0\n",
    "    for ch in string:\n",
    "        ch_val = ord(ch)\n",
    "        if ch_val > 127:\n",
    "            num_of_non_english += 1\n",
    "    if num_of_non_english > 3: # Helps allow some emoji usage\n",
    "        return False\n",
    "    else:\n",
    "        return True"
   ]
  },
  {
   "cell_type": "markdown",
   "id": "d45aa67e",
   "metadata": {},
   "source": [
    "#### Filtering out any on-English apps"
   ]
  },
  {
   "cell_type": "code",
   "execution_count": 20,
   "id": "93e71cdb",
   "metadata": {},
   "outputs": [],
   "source": [
    "android_english = []\n",
    "ios_english = []\n",
    "\n",
    "for app in android_clean:\n",
    "    name = app[0]\n",
    "    if en_letters(name):\n",
    "        android_english.append(app)\n",
    "        \n",
    "for app in app_store_data[1:]:\n",
    "    name = app[1]\n",
    "    if en_letters(name):\n",
    "        ios_english.append(app)"
   ]
  },
  {
   "cell_type": "code",
   "execution_count": 21,
   "id": "346af6d8",
   "metadata": {},
   "outputs": [
    {
     "name": "stdout",
     "output_type": "stream",
     "text": [
      "num of English Apple apps: 9614 \n",
      "num of English Android apps: 6183\n"
     ]
    }
   ],
   "source": [
    "num_of_en_andoid = len(ios_english)\n",
    "num_of_en_apple = len(android_english)\n",
    "print(f'num of English Apple apps: {num_of_en_apple} \\nnum of English Android apps: {num_of_en_andoid}')"
   ]
  },
  {
   "cell_type": "code",
   "execution_count": 22,
   "id": "e1973b3c",
   "metadata": {},
   "outputs": [
    {
     "name": "stdout",
     "output_type": "stream",
     "text": [
      "8864\n"
     ]
    }
   ],
   "source": [
    "android_final = []\n",
    "ios_final = []\n",
    "for app in android_english:\n",
    "    price = app[7]\n",
    "    if price == '0':\n",
    "        android_final.append(app)\n",
    "print(len(android_final))"
   ]
  },
  {
   "cell_type": "code",
   "execution_count": 23,
   "id": "30e4177a",
   "metadata": {},
   "outputs": [
    {
     "name": "stdout",
     "output_type": "stream",
     "text": [
      "3222\n"
     ]
    }
   ],
   "source": [
    "for app in ios_english:\n",
    "    price = app[4]\n",
    "    if price == '0.0':\n",
    "        ios_final.append(app)\n",
    "print(len(ios_final))"
   ]
  },
  {
   "cell_type": "markdown",
   "id": "2d0ee60a",
   "metadata": {},
   "source": [
    "##### Data Cleaning check:\n",
    "* Remove inaccurate data\n",
    "* Removed duplicated app entries\n",
    "* Removed non-English apps\n",
    "* Removed paid apps"
   ]
  },
  {
   "cell_type": "markdown",
   "id": "0bf08646",
   "metadata": {},
   "source": [
    "# Analyze Data:\n",
    "In this section I restructure the final datasets to create frequency tables."
   ]
  },
  {
   "cell_type": "code",
   "execution_count": 85,
   "id": "c3b4ebf2",
   "metadata": {},
   "outputs": [],
   "source": [
    "def display_table(dataset, index):\n",
    "    table = freq_table(dataset, index)\n",
    "    table_display = []\n",
    "    for key in table:\n",
    "        key_val_as_tuple = (table[key], key)\n",
    "        table_display.append(key_val_as_tuple)\n",
    "\n",
    "    table_sorted = sorted(table_display, reverse = True)\n",
    "    for entry in table_sorted:\n",
    "        print(entry[1], ':', entry[0])"
   ]
  },
  {
   "cell_type": "code",
   "execution_count": 115,
   "id": "9a8149a2",
   "metadata": {},
   "outputs": [
    {
     "name": "stdout",
     "output_type": "stream",
     "text": [
      "Games : 58.16263190564867\n",
      "Entertainment : 7.883302296710118\n",
      "Photo & Video : 4.9658597144630665\n",
      "Education : 3.662321539416512\n",
      "Social Networking : 3.2898820608317814\n",
      "Shopping : 2.60707635009311\n",
      "Utilities : 2.5139664804469275\n",
      "Sports : 2.1415270018621975\n",
      "Music : 2.0484171322160147\n",
      "Health & Fitness : 2.0173805090006205\n",
      "Productivity : 1.7380509000620732\n",
      "Lifestyle : 1.5828677839851024\n",
      "News : 1.3345747982619491\n",
      "Travel : 1.2414649286157666\n",
      "Finance : 1.1173184357541899\n",
      "Weather : 0.8690254500310366\n",
      "Food & Drink : 0.8069522036002483\n",
      "Reference : 0.5586592178770949\n",
      "Business : 0.5276225946617008\n",
      "Book : 0.4345127250155183\n",
      "Navigation : 0.186219739292365\n",
      "Medical : 0.186219739292365\n",
      "Catalogs : 0.12414649286157665\n"
     ]
    }
   ],
   "source": [
    "def freq_table(dataset, index):\n",
    "    freq_data = {}\n",
    "    sum = 0\n",
    "    for data in dataset: # create frequency\n",
    "        sum += 1\n",
    "        col = data[index]\n",
    "        if col in freq_data:\n",
    "            freq_data[col] += 1\n",
    "        else:\n",
    "            freq_data[col] = 1\n",
    "            \n",
    "    table_percentages = {}\n",
    "    for key in freq_data: # turn frequency to percentages\n",
    "        percentage = (freq_data[key] / sum) * 100\n",
    "        table_percentages[key] = percentage\n",
    "        \n",
    "    return table_percentages\n",
    "        \n",
    "display_table(ios_final, -5)"
   ]
  },
  {
   "cell_type": "code",
   "execution_count": 116,
   "id": "f5421ff2",
   "metadata": {},
   "outputs": [
    {
     "name": "stdout",
     "output_type": "stream",
     "text": [
      "4+ : 65.85971446306642\n",
      "12+ : 17.070142768466788\n",
      "9+ : 10.645561762880199\n",
      "17+ : 6.424581005586592\n"
     ]
    }
   ],
   "source": [
    "display_table(ios_final, -6)"
   ]
  },
  {
   "cell_type": "code",
   "execution_count": 117,
   "id": "23753a0f",
   "metadata": {},
   "outputs": [
    {
     "name": "stdout",
     "output_type": "stream",
     "text": [
      "Tools : 8.449909747292418\n",
      "Entertainment : 6.069494584837545\n",
      "Education : 5.347472924187725\n",
      "Business : 4.591606498194946\n",
      "Productivity : 3.892148014440433\n",
      "Lifestyle : 3.892148014440433\n",
      "Finance : 3.7003610108303246\n",
      "Medical : 3.531137184115524\n",
      "Sports : 3.463447653429603\n",
      "Personalization : 3.3167870036101084\n",
      "Communication : 3.2378158844765346\n",
      "Action : 3.1024368231046933\n",
      "Health & Fitness : 3.0798736462093865\n",
      "Photography : 2.944494584837545\n",
      "News & Magazines : 2.7978339350180503\n",
      "Social : 2.6624548736462095\n",
      "Travel & Local : 2.3240072202166067\n",
      "Shopping : 2.2450361010830324\n",
      "Books & Reference : 2.1435018050541514\n",
      "Simulation : 2.0419675090252705\n",
      "Dating : 1.861462093862816\n",
      "Arcade : 1.8501805054151623\n",
      "Video Players & Editors : 1.7712093862815883\n",
      "Casual : 1.7599277978339352\n",
      "Maps & Navigation : 1.3989169675090252\n",
      "Food & Drink : 1.2409747292418771\n",
      "Puzzle : 1.128158844765343\n",
      "Racing : 0.9927797833935018\n",
      "Role Playing : 0.9363718411552346\n",
      "Libraries & Demo : 0.9363718411552346\n",
      "Auto & Vehicles : 0.9250902527075812\n",
      "Strategy : 0.9138086642599278\n",
      "House & Home : 0.8235559566787004\n",
      "Weather : 0.8009927797833934\n",
      "Events : 0.7107400722021661\n",
      "Adventure : 0.6768953068592057\n",
      "Comics : 0.6092057761732852\n",
      "Beauty : 0.5979241877256317\n",
      "Art & Design : 0.5979241877256317\n",
      "Parenting : 0.4963898916967509\n",
      "Card : 0.45126353790613716\n",
      "Casino : 0.42870036101083037\n",
      "Trivia : 0.41741877256317694\n",
      "Educational;Education : 0.39485559566787\n",
      "Board : 0.3835740072202166\n",
      "Educational : 0.3722924187725632\n",
      "Education;Education : 0.33844765342960287\n",
      "Word : 0.2594765342960289\n",
      "Casual;Pretend Play : 0.236913357400722\n",
      "Music : 0.2030685920577617\n",
      "Racing;Action & Adventure : 0.16922382671480143\n",
      "Puzzle;Brain Games : 0.16922382671480143\n",
      "Entertainment;Music & Video : 0.16922382671480143\n",
      "Casual;Brain Games : 0.13537906137184114\n",
      "Casual;Action & Adventure : 0.13537906137184114\n",
      "Arcade;Action & Adventure : 0.12409747292418773\n",
      "Action;Action & Adventure : 0.10153429602888085\n",
      "Educational;Pretend Play : 0.09025270758122744\n",
      "Simulation;Action & Adventure : 0.078971119133574\n",
      "Parenting;Education : 0.078971119133574\n",
      "Entertainment;Brain Games : 0.078971119133574\n",
      "Board;Brain Games : 0.078971119133574\n",
      "Parenting;Music & Video : 0.06768953068592057\n",
      "Educational;Brain Games : 0.06768953068592057\n",
      "Casual;Creativity : 0.06768953068592057\n",
      "Art & Design;Creativity : 0.06768953068592057\n",
      "Education;Pretend Play : 0.056407942238267145\n",
      "Role Playing;Pretend Play : 0.04512635379061372\n",
      "Education;Creativity : 0.04512635379061372\n",
      "Role Playing;Action & Adventure : 0.033844765342960284\n",
      "Puzzle;Action & Adventure : 0.033844765342960284\n",
      "Entertainment;Creativity : 0.033844765342960284\n",
      "Entertainment;Action & Adventure : 0.033844765342960284\n",
      "Educational;Creativity : 0.033844765342960284\n",
      "Educational;Action & Adventure : 0.033844765342960284\n",
      "Education;Music & Video : 0.033844765342960284\n",
      "Education;Brain Games : 0.033844765342960284\n",
      "Education;Action & Adventure : 0.033844765342960284\n",
      "Adventure;Action & Adventure : 0.033844765342960284\n",
      "Video Players & Editors;Music & Video : 0.02256317689530686\n",
      "Sports;Action & Adventure : 0.02256317689530686\n",
      "Simulation;Pretend Play : 0.02256317689530686\n",
      "Puzzle;Creativity : 0.02256317689530686\n",
      "Music;Music & Video : 0.02256317689530686\n",
      "Entertainment;Pretend Play : 0.02256317689530686\n",
      "Casual;Education : 0.02256317689530686\n",
      "Board;Action & Adventure : 0.02256317689530686\n",
      "Video Players & Editors;Creativity : 0.01128158844765343\n",
      "Trivia;Education : 0.01128158844765343\n",
      "Travel & Local;Action & Adventure : 0.01128158844765343\n",
      "Tools;Education : 0.01128158844765343\n",
      "Strategy;Education : 0.01128158844765343\n",
      "Strategy;Creativity : 0.01128158844765343\n",
      "Strategy;Action & Adventure : 0.01128158844765343\n",
      "Simulation;Education : 0.01128158844765343\n",
      "Role Playing;Brain Games : 0.01128158844765343\n",
      "Racing;Pretend Play : 0.01128158844765343\n",
      "Puzzle;Education : 0.01128158844765343\n",
      "Parenting;Brain Games : 0.01128158844765343\n",
      "Music & Audio;Music & Video : 0.01128158844765343\n",
      "Lifestyle;Pretend Play : 0.01128158844765343\n",
      "Lifestyle;Education : 0.01128158844765343\n",
      "Health & Fitness;Education : 0.01128158844765343\n",
      "Health & Fitness;Action & Adventure : 0.01128158844765343\n",
      "Entertainment;Education : 0.01128158844765343\n",
      "Communication;Creativity : 0.01128158844765343\n",
      "Comics;Creativity : 0.01128158844765343\n",
      "Casual;Music & Video : 0.01128158844765343\n",
      "Card;Action & Adventure : 0.01128158844765343\n",
      "Books & Reference;Education : 0.01128158844765343\n",
      "Art & Design;Pretend Play : 0.01128158844765343\n",
      "Art & Design;Action & Adventure : 0.01128158844765343\n",
      "Arcade;Pretend Play : 0.01128158844765343\n",
      "Adventure;Education : 0.01128158844765343\n"
     ]
    }
   ],
   "source": [
    "display_table(android_final, -4)\n"
   ]
  },
  {
   "cell_type": "code",
   "execution_count": 128,
   "id": "fe32a609",
   "metadata": {},
   "outputs": [
    {
     "name": "stdout",
     "output_type": "stream",
     "text": [
      "Everyone : 81.43050541516246\n",
      "Teen : 11.055956678700362\n",
      "Mature 17+ : 4.185469314079422\n",
      "Everyone 10+ : 3.2716606498194944\n",
      "Adults only 18+ : 0.033844765342960284\n",
      "Unrated : 0.02256317689530686\n"
     ]
    }
   ],
   "source": [
    "display_table(android_final, -5)"
   ]
  },
  {
   "cell_type": "markdown",
   "id": "461aad07",
   "metadata": {},
   "source": [
    "# Conclusion:\n",
    "\n",
    "The data shows that apps designed for fun dominate the App Store, while Google Play apps show a more balanced landscape ranging from for both practical and fun/entertainment apps.\n",
    "\n",
    "Next, I will analyze the two datasets to determine the kind of apps with the most users."
   ]
  },
  {
   "cell_type": "code",
   "execution_count": 198,
   "id": "e6de9a1f",
   "metadata": {},
   "outputs": [],
   "source": [
    "unique_genre = freq_table(ios_final, -5)"
   ]
  },
  {
   "cell_type": "markdown",
   "id": "e58db1ae",
   "metadata": {},
   "source": [
    "###### Note that Social Networking has the highest number of users in the App Store"
   ]
  },
  {
   "cell_type": "code",
   "execution_count": 211,
   "id": "71009fac",
   "metadata": {},
   "outputs": [
    {
     "name": "stdout",
     "output_type": "stream",
     "text": [
      "Social Networking : 71548.34905660378\n",
      "Photo & Video : 28441.54375\n",
      "Games : 22788.6696905016\n",
      "Music : 57326.530303030304\n",
      "Reference : 74942.11111111111\n",
      "Health & Fitness : 23298.015384615384\n",
      "Weather : 52279.892857142855\n",
      "Utilities : 18684.456790123455\n",
      "Travel : 28243.8\n",
      "Shopping : 26919.690476190477\n",
      "News : 21248.023255813954\n",
      "Navigation : 86090.33333333333\n",
      "Lifestyle : 16485.764705882353\n",
      "Entertainment : 14029.830708661417\n",
      "Food & Drink : 33333.92307692308\n",
      "Sports : 23008.898550724636\n",
      "Book : 39758.5\n",
      "Finance : 31467.944444444445\n",
      "Education : 7003.983050847458\n",
      "Productivity : 21028.410714285714\n",
      "Business : 7491.117647058823\n",
      "Catalogs : 4004.0\n",
      "Medical : 612.0\n"
     ]
    }
   ],
   "source": [
    "for genre in unique_genre:\n",
    "    total = 0 # sum of user ratings\n",
    "    len_genre = 0 # number of apps specific to each genre\n",
    "    for app in ios_final:\n",
    "        genre_app = app[-5]\n",
    "        if genre_app == genre:\n",
    "            genre_rating = float(app[5])\n",
    "            len_genre += 1\n",
    "            total += genre_rating\n",
    "    avg_n_ratings = total / len_genre\n",
    "    print(genre, \":\", avg_n_ratings)"
   ]
  },
  {
   "cell_type": "markdown",
   "id": "bf171377",
   "metadata": {},
   "source": [
    "To compare what apps has the most users in the Google Market, I take the number of **install** per genre. To do this  I remove the **'+'** symbol to do computation. This calls for a little more of data cleaning ;)"
   ]
  },
  {
   "cell_type": "code",
   "execution_count": 246,
   "id": "c79fd8d2",
   "metadata": {},
   "outputs": [
    {
     "name": "stdout",
     "output_type": "stream",
     "text": [
      "1,000,000+ : 15.726534296028879\n",
      "100,000+ : 11.552346570397113\n",
      "10,000,000+ : 10.548285198555957\n",
      "10,000+ : 10.198555956678701\n",
      "1,000+ : 8.393501805054152\n",
      "100+ : 6.915613718411552\n",
      "5,000,000+ : 6.825361010830325\n",
      "500,000+ : 5.561823104693141\n",
      "50,000+ : 4.7721119133574\n",
      "5,000+ : 4.512635379061372\n",
      "10+ : 3.5424187725631766\n",
      "500+ : 3.2490974729241873\n",
      "50,000,000+ : 2.3014440433213\n",
      "100,000,000+ : 2.1322202166064983\n",
      "50+ : 1.917870036101083\n",
      "5+ : 0.78971119133574\n",
      "1+ : 0.5076714801444043\n",
      "500,000,000+ : 0.2707581227436823\n",
      "1,000,000,000+ : 0.22563176895306858\n",
      "0+ : 0.04512635379061372\n",
      "0 : 0.01128158844765343\n"
     ]
    }
   ],
   "source": [
    "display_table(android_final, 5)"
   ]
  },
  {
   "cell_type": "markdown",
   "id": "9eb5c11a",
   "metadata": {},
   "source": [
    "###### Note that Communication has the highest number of users in the Google Market"
   ]
  },
  {
   "cell_type": "code",
   "execution_count": 284,
   "id": "326011a2",
   "metadata": {},
   "outputs": [
    {
     "name": "stdout",
     "output_type": "stream",
     "text": [
      "ART_AND_DESIGN : 1986335.0877192982\n",
      "AUTO_AND_VEHICLES : 647317.8170731707\n",
      "BEAUTY : 513151.88679245283\n",
      "BOOKS_AND_REFERENCE : 8767811.894736841\n",
      "BUSINESS : 1712290.1474201474\n",
      "COMICS : 817657.2727272727\n",
      "COMMUNICATION : 38456119.167247385\n",
      "DATING : 854028.8303030303\n",
      "EDUCATION : 1833495.145631068\n",
      "ENTERTAINMENT : 11640705.88235294\n",
      "EVENTS : 253542.22222222222\n",
      "FINANCE : 1387692.475609756\n",
      "FOOD_AND_DRINK : 1924897.7363636363\n",
      "HEALTH_AND_FITNESS : 4188821.9853479853\n",
      "HOUSE_AND_HOME : 1331540.5616438356\n",
      "LIBRARIES_AND_DEMO : 638503.734939759\n",
      "LIFESTYLE : 1437816.2687861272\n",
      "GAME : 15588015.603248259\n",
      "FAMILY : 3695641.8198090694\n",
      "MEDICAL : 120550.61980830671\n",
      "SOCIAL : 23253652.127118643\n",
      "SHOPPING : 7036877.311557789\n",
      "PHOTOGRAPHY : 17840110.40229885\n",
      "SPORTS : 3638640.1428571427\n",
      "TRAVEL_AND_LOCAL : 13984077.710144928\n",
      "TOOLS : 10801391.298666667\n",
      "PERSONALIZATION : 5201482.6122448975\n",
      "PRODUCTIVITY : 16787331.344927534\n",
      "PARENTING : 542603.6206896552\n",
      "WEATHER : 5074486.197183099\n",
      "VIDEO_PLAYERS : 24727872.452830188\n",
      "NEWS_AND_MAGAZINES : 9549178.467741935\n",
      "MAPS_AND_NAVIGATION : 4056941.7741935486\n"
     ]
    }
   ],
   "source": [
    "android_genre = freq_table(android_final, 1)\n",
    "list_avg_installs = []\n",
    "for category in android_genre:\n",
    "    total = 0\n",
    "    len_category = 0\n",
    "    for app in android_final:\n",
    "        category_app = app[1]\n",
    "        if category_app == category:\n",
    "            installs = app[5]\n",
    "            installs = installs.replace('+','')\n",
    "            installs = installs.replace(',','')\n",
    "            total += float(installs)\n",
    "            len_category += 1\n",
    "    avg_n_installs = total / len_category\n",
    "    print(category, \":\" ,avg_n_installs)\n",
    "    list_avg_installs.append(avg_n_installs)"
   ]
  },
  {
   "cell_type": "code",
   "execution_count": null,
   "id": "41f891a7",
   "metadata": {},
   "outputs": [],
   "source": []
  },
  {
   "cell_type": "code",
   "execution_count": null,
   "id": "d4bde5a1",
   "metadata": {},
   "outputs": [],
   "source": []
  },
  {
   "cell_type": "code",
   "execution_count": null,
   "id": "6a0e232a",
   "metadata": {},
   "outputs": [],
   "source": []
  }
 ],
 "metadata": {
  "kernelspec": {
   "display_name": "Python 3 (ipykernel)",
   "language": "python",
   "name": "python3"
  },
  "language_info": {
   "codemirror_mode": {
    "name": "ipython",
    "version": 3
   },
   "file_extension": ".py",
   "mimetype": "text/x-python",
   "name": "python",
   "nbconvert_exporter": "python",
   "pygments_lexer": "ipython3",
   "version": "3.9.12"
  }
 },
 "nbformat": 4,
 "nbformat_minor": 5
}
